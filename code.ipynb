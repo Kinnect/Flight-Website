{
 "cells": [
  {
   "cell_type": "code",
   "execution_count": 1,
   "metadata": {},
   "outputs": [],
   "source": [
    "import requests\n",
    "import csv"
   ]
  },
  {
   "cell_type": "code",
   "execution_count": 2,
   "metadata": {},
   "outputs": [
    {
     "ename": "SyntaxError",
     "evalue": "invalid syntax (1855430578.py, line 25)",
     "output_type": "error",
     "traceback": [
      "\u001b[0;36m  Cell \u001b[0;32mIn[2], line 25\u001b[0;36m\u001b[0m\n\u001b[0;31m    writer.writerow(['Name', 'Latitude', `'Longitude'])\u001b[0m\n\u001b[0m                                         ^\u001b[0m\n\u001b[0;31mSyntaxError\u001b[0m\u001b[0;31m:\u001b[0m invalid syntax\n"
     ]
    }
   ],
   "source": [
    "def fetch_airport_data():\n",
    "    url = \"https://ourairports.com/data/airports.csv\"\n",
    "    response = requests.get(url)\n",
    "    if response.status_code == 200:\n",
    "        return response.text.splitlines()\n",
    "    else:\n",
    "        print(\"Failed to fetch airport data.\")\n",
    "        return []\n",
    "\n",
    "def parse_airport_data(airport_data):\n",
    "    airports = []\n",
    "    reader = csv.DictReader(airport_data)\n",
    "    for row in reader:\n",
    "        airport = {\n",
    "            'name': row['name'],\n",
    "            'latitude': row['latitude_deg'],\n",
    "            'longitude': row['longitude_deg']\n",
    "        }\n",
    "        airports.append(airport)\n",
    "    return airports\n",
    "\n",
    "def write_to_csv(airports):\n",
    "    with open('airports.csv', mode='w', newline='') as file:\n",
    "        writer = csv.writer(file)\n",
    "        writer.writerow(['Name', 'Latitude', `'Longitude'])\n",
    "        for airport in airports:\n",
    "            writer.writerow([airport['name'], airport['latitude'], airport['longitude']])\n",
    "\n",
    "def main():\n",
    "    airport_data = fetch_airport_data()\n",
    "    if airport_data:\n",
    "        airports = parse_airport_data(airport_data)\n",
    "        write_to_csv(airports)\n",
    "        print(\"CSV file generated successfully.\")\n",
    "    else:\n",
    "        print(\"No airport data available.\")\n",
    "\n",
    "if __name__ == \"__main__\":\n",
    "    main()"
   ]
  },
  {
   "cell_type": "code",
   "execution_count": null,
   "metadata": {},
   "outputs": [],
   "source": []
  }
 ],
 "metadata": {
  "kernelspec": {
   "display_name": "Python 3",
   "language": "python",
   "name": "python3"
  },
  "language_info": {
   "codemirror_mode": {
    "name": "ipython",
    "version": 3
   },
   "file_extension": ".py",
   "mimetype": "text/x-python",
   "name": "python",
   "nbconvert_exporter": "python",
   "pygments_lexer": "ipython3",
   "version": "3.12.3"
  }
 },
 "nbformat": 4,
 "nbformat_minor": 2
}
